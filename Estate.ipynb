{
 "cells": [
  {
   "cell_type": "code",
   "execution_count": null,
   "metadata": {},
   "outputs": [],
   "source": [
    "import pandas as pd \n",
    "import numpy as np\n",
    "import seaborn as sns\n",
    "import matplotlib.pyplot as plt\n",
    "df = pd.read_csv('https://raw.githubusercontent.com/Elbrus-DataScience/rent_real_estate/master/_data.csv?token=GHSAT0AAAAAACI7LLKTLRHY3DFJWPPKWOJWZJRA3NQ') \n",
    "df.head() "
   ]
  },
  {
   "cell_type": "code",
   "execution_count": null,
   "metadata": {},
   "outputs": [],
   "source": [
    "df.shape # мы увидим информацию о размерности нашего датафрейма \n",
    "df.info() # покажет информацию о размерности данных \n",
    "          # описание индекса, количество not-a-number элементов \n",
    "df.describe() # показывает статистики count,mean, std, min, 25%-50%-75% percentile, max \n",
    "df.nunique() # количество уникальных значений для каждого столбца "
   ]
  },
  {
   "cell_type": "code",
   "execution_count": null,
   "metadata": {},
   "outputs": [],
   "source": [
    "# Визуализация пропущенных данных\n",
    "plt.figure(figsize=(12, 7))\n",
    "sns.heatmap(df.isnull(), cbar=False, cmap='viridis', yticklabels=False)\n",
    "plt.title(\"Пропущенные значения по признакам\")\n",
    "plt.show()"
   ]
  }
 ],
 "metadata": {
  "language_info": {
   "name": "python"
  }
 },
 "nbformat": 4,
 "nbformat_minor": 2
}
