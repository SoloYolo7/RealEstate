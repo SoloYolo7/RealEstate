{
 "cells": [
  {
   "cell_type": "markdown",
   "metadata": {},
   "source": [
    "Начальный импорт"
   ]
  },
  {
   "cell_type": "code",
   "execution_count": 2511,
   "metadata": {},
   "outputs": [],
   "source": [
    "#Импортируем нужные библиотеки\n",
    "import pandas as pd \n",
    "import numpy as np\n",
    "import matplotlib.pyplot as plt"
   ]
  },
  {
   "cell_type": "code",
   "execution_count": 2512,
   "metadata": {
    "tags": []
   },
   "outputs": [
    {
     "name": "stdout",
     "output_type": "stream",
     "text": [
      "['Unnamed: 0', 'ID  объявления', 'Количество комнат', 'Тип', 'Метро', 'Адрес', 'Площадь, м2', 'Дом', 'Парковка', 'Цена', 'Телефоны', 'Описание', 'Ремонт', 'Площадь комнат, м2', 'Балкон', 'Окна', 'Санузел', 'Можно с детьми/животными', 'Дополнительно', 'Название ЖК', 'Серия дома', 'Высота потолков, м', 'Лифт', 'Мусоропровод', 'Ссылка на объявление']\n",
      "19737\n"
     ]
    }
   ],
   "source": [
    "#Оставляем только объявления в Москве и убираем, на наш взгляд, не нужные колонки.\n",
    "df = pd.read_csv('./_data.csv', sep=',')\n",
    "includes = []\n",
    "for i in range(len(df)):\n",
    "    if 'Москва' not in df['Адрес'][i]:\n",
    "        includes.append(i)\n",
    "print(df.columns.to_list())\n",
    "df_clean=df.drop(includes)\n",
    "print(len(df_clean))\n",
    "df = df_clean.copy().drop(['Тип', 'Unnamed: 0', 'Телефоны', 'Серия дома', 'Название ЖК', 'Ссылка на объявление','Описание','Адрес','Дополнительно'], axis=1)\n",
    "df['Ремонт'].fillna('неизвестно')\n",
    "\n",
    "df.to_csv('data.csv', sep='\\t')"
   ]
  },
  {
   "cell_type": "markdown",
   "metadata": {},
   "source": [
    "Работа с NaN"
   ]
  },
  {
   "cell_type": "code",
   "execution_count": 2513,
   "metadata": {},
   "outputs": [],
   "source": [
    "#Убираем дубликаты\n",
    "df = df.drop_duplicates()"
   ]
  },
  {
   "cell_type": "code",
   "execution_count": 2514,
   "metadata": {},
   "outputs": [],
   "source": [
    "#Убираем NaN в кол-ве комнат и приводим кол-во комнат в числовое или около того значение.\n",
    "df['Количество комнат'] = df['Количество комнат'].str[0]\n",
    "df['Количество комнат'].fillna(int(df['Количество комнат'].mode()), inplace=True)"
   ]
  },
  {
   "cell_type": "code",
   "execution_count": 2515,
   "metadata": {},
   "outputs": [],
   "source": [
    "# Считаем, что отдельные площади кухни и комнат нам не важны, и оставляет только общую площадь, а потом удаляем колонки со старой площадью.\n",
    "df['Площадь кв, м2'] = [row.split('/')[0] for row in df['Площадь, м2']]\n",
    "df = df.drop(['Площадь, м2'], axis = 1)\n",
    "df = df.drop(['Площадь комнат, м2'], axis = 1)"
   ]
  },
  {
   "cell_type": "code",
   "execution_count": 2516,
   "metadata": {},
   "outputs": [],
   "source": [
    "# Убираем NaN в колонке 'Окна', ставим 'Во двор', так как это самый распространённый вариант.\n",
    "df['Окна'] = df['Окна'].fillna('Во двор')"
   ]
  },
  {
   "cell_type": "code",
   "execution_count": 2517,
   "metadata": {},
   "outputs": [],
   "source": [
    "# Убираем NaN в колонке 'Ремонт', ставим 'Косметический', так как это самый распространённый вариант.\n",
    "df['Ремонт'] = df['Ремонт'].fillna('Косметический')"
   ]
  },
  {
   "cell_type": "code",
   "execution_count": 2518,
   "metadata": {},
   "outputs": [],
   "source": [
    "# Вытаскиваем информацию из колонки 'дом'\n",
    "df['Тип дома'] = [row.split(', ')[-1] if len(row.split(', ')[-1]) > 6 else 'Неизвестно' for row in df['Дом']]\n",
    "df['Этажность дома'] = [int(row.split('/')[1].split(',')[0]) for row in df['Дом']]\n",
    "df['Этаж квартиры'] = [int(row.split('/')[0]) for row in df['Дом']]\n",
    "df = df.drop(['Дом'], axis = 1)"
   ]
  },
  {
   "cell_type": "code",
   "execution_count": 2519,
   "metadata": {},
   "outputs": [],
   "source": [
    "# Избавляемся от NaN для лифтов, если меньше 5 этажей - нет лифта, в остальном по одному каждого лифта.\n",
    "df['Лифт'] = [row if row == row else\n",
    "              ['Пасс (1), Груз (1)' if df['Этажность дома'].iloc[i]>5 else 'Пасс (0), Груз (0)'][0]\n",
    "              for i, row in enumerate(df['Лифт'])]"
   ]
  },
  {
   "cell_type": "code",
   "execution_count": 2520,
   "metadata": {},
   "outputs": [],
   "source": [
    "# Убираем NaN в колонке 'Мусоропровод', ставим 'Нет', так как предполагаем, что это малозначимый фактор.\n",
    "df['Мусоропровод'] = df['Мусоропровод'].fillna('Нет')"
   ]
  },
  {
   "cell_type": "code",
   "execution_count": 2521,
   "metadata": {},
   "outputs": [],
   "source": [
    "# Убираем NaN в колонке 'Высота потолков, м', выбираем среднее, так как в случае с высотой потолков это кажется самым логичным вариантом.\n",
    "df['Высота потолков, м'] = df['Высота потолков, м'].fillna(round(df['Высота потолков, м'].mean(), 2))\n"
   ]
  },
  {
   "cell_type": "code",
   "execution_count": 2522,
   "metadata": {},
   "outputs": [],
   "source": [
    "# Убираем NaN в колонке 'Санузел', разбиваем на возможные варианты, руководствуясь логикой.\n",
    "df['Санузел'] = df['Санузел'].fillna('Совмещенный (1)')\n",
    "df['Санузел совмещенный'] = [row.split(' ')[1] if (row.split(' ')[0]) == 'Совмещенный' else '(0)' for row in df['Санузел']]\n",
    "df['Санузел раздельный'] = [row.split(' ')[-1] if (row.split(' ')[-2]) == 'Раздельный' else '(0)' for row in df['Санузел']]\n",
    "df['Санузел совмещенный'] = [row.split('(')[1] for row in df['Санузел совмещенный']]\n",
    "df['Санузел совмещенный'] = [int(row.split(')')[0]) for row in df['Санузел совмещенный']]\n",
    "df['Санузел раздельный'] = [row.split('(')[1] for row in df['Санузел раздельный']]\n",
    "df['Санузел раздельный'] = [int(row.split(')')[0]) for row in df['Санузел раздельный']]\n",
    "df = df.drop(['Санузел'], axis = 1)"
   ]
  },
  {
   "cell_type": "code",
   "execution_count": 2523,
   "metadata": {},
   "outputs": [],
   "source": [
    "# Убираем NaN в колонке 'Балкон', разбиваем на возможные варианты, руководствуясь логикой.\n",
    "df['Балкон'] = df['Балкон'].fillna('Балкон (0), Лоджия (0)')\n",
    "df['Лоджия'] = [row.split(' ')[-1] if (row.split(' ')[-2]) == 'Лоджия' else '(0)' for row in df['Балкон']]\n",
    "df['Балкон'] = [row.split(' ')[1] if row.split(' ')[0] == 'Балкон' else '(0)' for row in df['Балкон']]\n",
    "df['Лоджия'] = [row.split('(')[1] for row in df['Лоджия']]\n",
    "df['Лоджия'] = [int(row.split(')')[0]) for row in df['Лоджия']]\n",
    "df['Балкон'] = [row.split('(')[1] for row in df['Балкон']]\n",
    "df['Балкон'] = [int(row.split(')')[0]) for row in df['Балкон']]"
   ]
  },
  {
   "cell_type": "code",
   "execution_count": 2524,
   "metadata": {},
   "outputs": [],
   "source": [
    "# Убираем NaN в колонке 'Парковка', ставим 'Наземная', так как это самый распространённый вариант и он бесплатный.\n",
    "df['Парковка'] = df['Парковка'].fillna('наземная')\n",
    "df['Парковка'] = df['Парковка'].apply(lambda x: x.capitalize())"
   ]
  },
  {
   "cell_type": "code",
   "execution_count": null,
   "metadata": {},
   "outputs": [],
   "source": [
    "df['Metro'].fillna('Отсутствует')"
   ]
  },
  {
   "cell_type": "code",
   "execution_count": 2525,
   "metadata": {},
   "outputs": [],
   "source": [
    "# Убираем NaN в колонке 'Можно с детьми/животными', в данном случае мы считаем фактор важным, поэтому никак его автоматически не заполняем.\n",
    "df['Можно с детьми/животными']=df['Можно с детьми/животными'].fillna('по договорённости')"
   ]
  },
  {
   "cell_type": "code",
   "execution_count": 2526,
   "metadata": {},
   "outputs": [
    {
     "name": "stderr",
     "output_type": "stream",
     "text": [
      "/tmp/ipykernel_37024/2430123984.py:2: FutureWarning: The default value of regex will change from True to False in a future version. In addition, single character regular expressions will *not* be treated as literal strings when regex=True.\n",
      "  df['время до метро'] = df['Метро'].str.replace(')', '').str.split('(').str[-1]\n"
     ]
    }
   ],
   "source": [
    "#Переводим расстояние до метро в метры в зависимости от указанного способо передвижения, для NaN задаём медиану.\n",
    "df['время до метро'] = df['Метро'].str.replace(')', '').str.split('(').str[-1]\n",
    "df[['время в минутах', 'способ']] = df['время до метро'].str.extract(r'(\\d+) мин\\s(пешком|на машине)')\n",
    "df['способ'] = df['способ'].apply(lambda x: 70 if x == 'пешком' else 750)\n",
    "df['способ'] = df['способ'].fillna(0)\n",
    "df['время в минутах'] = df['время в минутах'].fillna(0)\n",
    "df['distance to subway, m'] = df['способ'] * df['время в минутах'].astype(int)\n",
    "median_value = df['distance to subway, m'].median()\n",
    "df['distance to subway, m'] = df['distance to subway, m'].replace(0, median_value)\n"
   ]
  },
  {
   "cell_type": "code",
   "execution_count": 2527,
   "metadata": {},
   "outputs": [],
   "source": [
    "#Переименовываем столбцы на английский для соответствия требованиям.\n",
    "df.rename(columns={'ID  объявления': 'Ad_ID'}, inplace=True)\n",
    "df.rename(columns={'Количество комнат': 'Number_of_Rooms'}, inplace=True)\n",
    "df.rename(columns={'Метро': 'Metro'}, inplace=True)\n",
    "df.rename(columns={'Парковка': 'Parking'}, inplace=True)\n",
    "df.rename(columns={'Цена': 'Price'}, inplace=True)\n",
    "df.rename(columns={'Ремонт': 'Renovation'}, inplace=True)\n",
    "df.rename(columns={'Балкон': 'Balcony'}, inplace=True)\n",
    "df.rename(columns={'Окна': 'Windows'}, inplace=True)\n",
    "df.rename(columns={'Можно с детьми/животными': 'Children/Pets_Allowed'}, inplace=True)\n",
    "df.rename(columns={'Лифт': 'Elevator'}, inplace=True)\n",
    "df.rename(columns={'Мусоропровод': 'Garbage_Chute'}, inplace=True)\n",
    "df.rename(columns={'Площадь кв, м2': 'Area_sq_m'}, inplace=True)\n",
    "df.rename(columns={'Тип дома': 'House_Type'}, inplace=True)\n",
    "df.rename(columns={'Этажность дома': 'Number_of_Floors'}, inplace=True)\n",
    "df.rename(columns={'Этаж квартиры': 'Floor_of_Apartment'}, inplace=True)\n",
    "df.rename(columns={'Санузел совмещенный': 'Combined_Bathroom'}, inplace=True)\n",
    "df.rename(columns={'Санузел раздельный': 'Separate_Bathroom'}, inplace=True)\n",
    "df.rename(columns={'Лоджия': 'Balconette'}, inplace=True)\n",
    "df.rename(columns={'Высота потолков, м': 'Ceiling_Height_M'}, inplace=True)\n"
   ]
  },
  {
   "cell_type": "code",
   "execution_count": 2528,
   "metadata": {},
   "outputs": [],
   "source": [
    "#Убираем лишние столбцы.\n",
    "df.drop(['время до метро'], axis=1, inplace = True)\n",
    "df.drop(['время в минутах'], axis=1, inplace = True)\n",
    "df.drop(['способ'], axis=1, inplace = True)"
   ]
  },
  {
   "cell_type": "code",
   "execution_count": 2529,
   "metadata": {},
   "outputs": [
    {
     "name": "stdout",
     "output_type": "stream",
     "text": [
      "True\n"
     ]
    }
   ],
   "source": [
    "#Проверка на NaN\n",
    "nans = df.isna().any().any()\n",
    "print(nans)\n"
   ]
  },
  {
   "cell_type": "code",
   "execution_count": 2530,
   "metadata": {},
   "outputs": [],
   "source": [
    "#Разбивка лифтов на пассажирские и грузовые\n",
    "df.insert(loc=df.columns.to_list().index('Elevator')+1, column='Count_freight_elevator', \\\n",
    "                  value=df['Elevator'].apply(lambda x: int(x[-2]) if 'Груз' in x else 0))\n",
    "df['Elevator'] = df['Elevator'].apply(lambda x: int(x[x.index('(')+1]) if 'Пасс' in x else 0)\n",
    "df = df.rename(columns={'Elevator': 'Count_pass_elevator'})"
   ]
  },
  {
   "cell_type": "markdown",
   "metadata": {},
   "source": [
    "Работа с кодированием"
   ]
  },
  {
   "cell_type": "code",
   "execution_count": 2531,
   "metadata": {},
   "outputs": [],
   "source": [
    "#Создаём копию основного датасета, для того что бы его не изменять.\n",
    "df_encode = df.copy()"
   ]
  },
  {
   "cell_type": "code",
   "execution_count": 2532,
   "metadata": {},
   "outputs": [],
   "source": [
    "# Кодирование Parking\n",
    "from sklearn.preprocessing import LabelEncoder\n",
    "le = LabelEncoder()\n",
    "le.fit(df['Parking'])\n",
    "df_encode['Parking'] = le.transform(df_encode['Parking'])\n",
    "\n"
   ]
  },
  {
   "cell_type": "code",
   "execution_count": 2533,
   "metadata": {},
   "outputs": [],
   "source": [
    "# Кодирование Renovation\n",
    "le = LabelEncoder()\n",
    "le.fit(df['Renovation'])\n",
    "df_encode['Renovation'] = le.transform(df_encode['Renovation'])"
   ]
  },
  {
   "cell_type": "code",
   "execution_count": 2534,
   "metadata": {},
   "outputs": [],
   "source": [
    "# Кодирование Garbage_Chute\n",
    "le = LabelEncoder()\n",
    "le.fit(df['Garbage_Chute'])\n",
    "df_encode['Garbage_Chute'] = le.transform(df_encode['Garbage_Chute'])"
   ]
  },
  {
   "cell_type": "code",
   "execution_count": 2535,
   "metadata": {},
   "outputs": [],
   "source": [
    "# кодирование House_Type\n",
    "le = LabelEncoder()\n",
    "le.fit(df['House_Type'])\n",
    "df_encode['House_Type'] = le.transform(df_encode['House_Type'])"
   ]
  },
  {
   "cell_type": "code",
   "execution_count": 2536,
   "metadata": {},
   "outputs": [],
   "source": [
    "# кодирование Windows\n",
    "le = LabelEncoder()\n",
    "le.fit(df['Windows'])\n",
    "df_encode['Windows'] = le.transform(df_encode['Windows'])"
   ]
  },
  {
   "cell_type": "code",
   "execution_count": 2537,
   "metadata": {},
   "outputs": [],
   "source": [
    "#Переводим столбец Number_of_Rooms и Area_sq_m из str в int\n",
    "df_encode['Number_of_Rooms'] = df_encode['Number_of_Rooms'].astype(int)\n",
    "df_encode['Area_sq_m'] = df_encode['Area_sq_m'].astype(float)"
   ]
  },
  {
   "cell_type": "code",
   "execution_count": 2538,
   "metadata": {},
   "outputs": [],
   "source": [
    "# Разбиение одной колонки на две\n",
    "df_encode['Childrens_allowed'] = df_encode['Children/Pets_Allowed'].str.contains('Можно с детьми', case=False)\n",
    "df_encode['Pets_allowed'] = df_encode['Children/Pets_Allowed'].str.contains('Можно с животными', case=False)"
   ]
  },
  {
   "cell_type": "code",
   "execution_count": 2539,
   "metadata": {},
   "outputs": [],
   "source": [
    "# выбрасываем то, что разбивали\n",
    "df_encode.drop('Children/Pets_Allowed', axis=1, inplace=True)"
   ]
  },
  {
   "cell_type": "code",
   "execution_count": 2540,
   "metadata": {},
   "outputs": [],
   "source": [
    "#str to int\n",
    "df_encode['Childrens_allowed'] = df_encode['Childrens_allowed'].astype(int)\n",
    "df_encode['Pets_allowed'] = df_encode['Pets_allowed'].astype(int)"
   ]
  },
  {
   "cell_type": "code",
   "execution_count": 2541,
   "metadata": {},
   "outputs": [],
   "source": [
    "# Добавим новый столбец Deposit\n",
    "df_encode.insert(loc=df_encode.columns.to_list().index('Price')+1, column=\"Deposit\",\n",
    "         value=df['Price'])\n",
    "\n",
    "# Переведём столбец Price из $ и € в рубли (где необходимо)\n",
    "def converter(x):\n",
    "    x = x.split(' ')\n",
    "    \n",
    "    if x[1] == '$':\n",
    "        return int(float((x[0]))) * 95\n",
    "        \n",
    "    elif x == '€':\n",
    "        return int(float((x[0]))) * 100\n",
    "        \n",
    "    else:\n",
    "        return int(float((x[0])))\n",
    "\n",
    "df_encode['Price'] = df_encode['Price'].apply(converter)"
   ]
  },
  {
   "cell_type": "code",
   "execution_count": 2542,
   "metadata": {},
   "outputs": [],
   "source": [
    "# Отредактируем cтолбец Deposit\n",
    "\n",
    "from string import punctuation\n",
    "\n",
    "# Удалим ненужную пунктуацию, буквы и отступы на число\n",
    "def del_punc(x):\n",
    "    for let in x[:]:\n",
    "        if let in punctuation:\n",
    "            x = x.replace(let, '')\n",
    "            \n",
    "    return x\n",
    "\n",
    "def cleaner_deposit(x):\n",
    "    if 'Залог' in x:\n",
    "        x = x.split('Залог')\n",
    "        if '$' in x[1]:\n",
    "            x = del_punc(x[1]).split()\n",
    "            return int(x[0]) * 95\n",
    "        \n",
    "        elif '€' in x[1]:\n",
    "            x = del_punc(x[1]).split()\n",
    "            return int(x[0]) * 100\n",
    "\n",
    "        else:\n",
    "            x = del_punc(x[1]).split()\n",
    "            return int(x[0])\n",
    "    else:\n",
    "        return 0\n",
    "\n",
    "\n",
    "df_encode['Deposit'] = df_encode['Deposit'].apply(cleaner_deposit)"
   ]
  },
  {
   "cell_type": "code",
   "execution_count": 2543,
   "metadata": {},
   "outputs": [
    {
     "data": {
      "text/plain": [
       "19736"
      ]
     },
     "execution_count": 2543,
     "metadata": {},
     "output_type": "execute_result"
    }
   ],
   "source": [
    "# Удаление несуществующих зданий по высоте (самое высокое жилое здание Мск - 95 этажей)\n",
    "df_encode = df_encode[df_encode['Number_of_Floors'] <= 95]\n",
    "len(df_encode)"
   ]
  },
  {
   "cell_type": "code",
   "execution_count": 2544,
   "metadata": {},
   "outputs": [
    {
     "data": {
      "text/plain": [
       "19735"
      ]
     },
     "execution_count": 2544,
     "metadata": {},
     "output_type": "execute_result"
    }
   ],
   "source": [
    "# Удаление несуществующих квартир по площади (даже в общежитии 6м2 на человека. Ну зададимся 8 - самое минимальное, что видела Москва)\n",
    "df_encode = df_encode[df_encode['Area_sq_m'] >= 8]\n",
    "len(df_encode)"
   ]
  },
  {
   "cell_type": "code",
   "execution_count": 2545,
   "metadata": {},
   "outputs": [
    {
     "data": {
      "text/plain": [
       "19714"
      ]
     },
     "execution_count": 2545,
     "metadata": {},
     "output_type": "execute_result"
    }
   ],
   "source": [
    "# Удаление квартир для гномов\n",
    "df_encode = df_encode[df_encode['Ceiling_Height_M'] >= 2.2]\n",
    "len(df_encode)\n",
    "\n",
    "# Удаление квартир с 4-х метровыми колоннами \n",
    "df_encode = df_encode[df_encode['Ceiling_Height_M'] <= 8]\n",
    "len(df_encode)"
   ]
  },
  {
   "cell_type": "code",
   "execution_count": 2546,
   "metadata": {},
   "outputs": [
    {
     "ename": "AttributeError",
     "evalue": "'float' object has no attribute 'split'",
     "output_type": "error",
     "traceback": [
      "\u001b[0;31m---------------------------------------------------------------------------\u001b[0m",
      "\u001b[0;31mAttributeError\u001b[0m                            Traceback (most recent call last)",
      "\u001b[1;32m/home/soloyolo/Desktop/Estate/RealEstate/preprocessing.ipynb Cell 39\u001b[0m line \u001b[0;36m4\n\u001b[1;32m      <a href='vscode-notebook-cell:/home/soloyolo/Desktop/Estate/RealEstate/preprocessing.ipynb#Y126sZmlsZQ%3D%3D?line=0'>1</a>\u001b[0m \u001b[39m#Кодируем метро\u001b[39;00m\n\u001b[1;32m      <a href='vscode-notebook-cell:/home/soloyolo/Desktop/Estate/RealEstate/preprocessing.ipynb#Y126sZmlsZQ%3D%3D?line=1'>2</a>\u001b[0m df_encode[\u001b[39m'\u001b[39m\u001b[39mMetro\u001b[39m\u001b[39m'\u001b[39m]\u001b[39m.\u001b[39mfillna(\u001b[39m'\u001b[39m\u001b[39mОтсутствует\u001b[39m\u001b[39m'\u001b[39m)\n\u001b[0;32m----> <a href='vscode-notebook-cell:/home/soloyolo/Desktop/Estate/RealEstate/preprocessing.ipynb#Y126sZmlsZQ%3D%3D?line=3'>4</a>\u001b[0m df_encode[\u001b[39m'\u001b[39m\u001b[39mMetro\u001b[39m\u001b[39m'\u001b[39m] \u001b[39m=\u001b[39m df_encode[\u001b[39m'\u001b[39;49m\u001b[39mMetro\u001b[39;49m\u001b[39m'\u001b[39;49m]\u001b[39m.\u001b[39;49mapply(\u001b[39mlambda\u001b[39;49;00m x: x \u001b[39mif\u001b[39;49;00m x \u001b[39m==\u001b[39;49m \u001b[39m'\u001b[39;49m\u001b[39mОтсутствует\u001b[39;49m\u001b[39m'\u001b[39;49m \u001b[39melse\u001b[39;49;00m x\u001b[39m.\u001b[39;49msplit()[\u001b[39m1\u001b[39;49m])\n",
      "File \u001b[0;32m/usr/lib/python3/dist-packages/pandas/core/series.py:4771\u001b[0m, in \u001b[0;36mSeries.apply\u001b[0;34m(self, func, convert_dtype, args, **kwargs)\u001b[0m\n\u001b[1;32m   4661\u001b[0m \u001b[39mdef\u001b[39;00m \u001b[39mapply\u001b[39m(\n\u001b[1;32m   4662\u001b[0m     \u001b[39mself\u001b[39m,\n\u001b[1;32m   4663\u001b[0m     func: AggFuncType,\n\u001b[0;32m   (...)\u001b[0m\n\u001b[1;32m   4666\u001b[0m     \u001b[39m*\u001b[39m\u001b[39m*\u001b[39mkwargs,\n\u001b[1;32m   4667\u001b[0m ) \u001b[39m-\u001b[39m\u001b[39m>\u001b[39m DataFrame \u001b[39m|\u001b[39m Series:\n\u001b[1;32m   4668\u001b[0m \u001b[39m    \u001b[39m\u001b[39m\"\"\"\u001b[39;00m\n\u001b[1;32m   4669\u001b[0m \u001b[39m    Invoke function on values of Series.\u001b[39;00m\n\u001b[1;32m   4670\u001b[0m \n\u001b[0;32m   (...)\u001b[0m\n\u001b[1;32m   4769\u001b[0m \u001b[39m    dtype: float64\u001b[39;00m\n\u001b[1;32m   4770\u001b[0m \u001b[39m    \"\"\"\u001b[39;00m\n\u001b[0;32m-> 4771\u001b[0m     \u001b[39mreturn\u001b[39;00m SeriesApply(\u001b[39mself\u001b[39;49m, func, convert_dtype, args, kwargs)\u001b[39m.\u001b[39;49mapply()\n",
      "File \u001b[0;32m/usr/lib/python3/dist-packages/pandas/core/apply.py:1123\u001b[0m, in \u001b[0;36mSeriesApply.apply\u001b[0;34m(self)\u001b[0m\n\u001b[1;32m   1120\u001b[0m     \u001b[39mreturn\u001b[39;00m \u001b[39mself\u001b[39m\u001b[39m.\u001b[39mapply_str()\n\u001b[1;32m   1122\u001b[0m \u001b[39m# self.f is Callable\u001b[39;00m\n\u001b[0;32m-> 1123\u001b[0m \u001b[39mreturn\u001b[39;00m \u001b[39mself\u001b[39;49m\u001b[39m.\u001b[39;49mapply_standard()\n",
      "File \u001b[0;32m/usr/lib/python3/dist-packages/pandas/core/apply.py:1174\u001b[0m, in \u001b[0;36mSeriesApply.apply_standard\u001b[0;34m(self)\u001b[0m\n\u001b[1;32m   1172\u001b[0m     \u001b[39melse\u001b[39;00m:\n\u001b[1;32m   1173\u001b[0m         values \u001b[39m=\u001b[39m obj\u001b[39m.\u001b[39mastype(\u001b[39mobject\u001b[39m)\u001b[39m.\u001b[39m_values\n\u001b[0;32m-> 1174\u001b[0m         mapped \u001b[39m=\u001b[39m lib\u001b[39m.\u001b[39;49mmap_infer(\n\u001b[1;32m   1175\u001b[0m             values,\n\u001b[1;32m   1176\u001b[0m             f,\n\u001b[1;32m   1177\u001b[0m             convert\u001b[39m=\u001b[39;49m\u001b[39mself\u001b[39;49m\u001b[39m.\u001b[39;49mconvert_dtype,\n\u001b[1;32m   1178\u001b[0m         )\n\u001b[1;32m   1180\u001b[0m \u001b[39mif\u001b[39;00m \u001b[39mlen\u001b[39m(mapped) \u001b[39mand\u001b[39;00m \u001b[39misinstance\u001b[39m(mapped[\u001b[39m0\u001b[39m], ABCSeries):\n\u001b[1;32m   1181\u001b[0m     \u001b[39m# GH#43986 Need to do list(mapped) in order to get treated as nested\u001b[39;00m\n\u001b[1;32m   1182\u001b[0m     \u001b[39m#  See also GH#25959 regarding EA support\u001b[39;00m\n\u001b[1;32m   1183\u001b[0m     \u001b[39mreturn\u001b[39;00m obj\u001b[39m.\u001b[39m_constructor_expanddim(\u001b[39mlist\u001b[39m(mapped), index\u001b[39m=\u001b[39mobj\u001b[39m.\u001b[39mindex)\n",
      "File \u001b[0;32m/usr/lib/python3/dist-packages/pandas/_libs/lib.pyx:2924\u001b[0m, in \u001b[0;36mpandas._libs.lib.map_infer\u001b[0;34m()\u001b[0m\n",
      "\u001b[1;32m/home/soloyolo/Desktop/Estate/RealEstate/preprocessing.ipynb Cell 39\u001b[0m line \u001b[0;36m4\n\u001b[1;32m      <a href='vscode-notebook-cell:/home/soloyolo/Desktop/Estate/RealEstate/preprocessing.ipynb#Y126sZmlsZQ%3D%3D?line=0'>1</a>\u001b[0m \u001b[39m#Кодируем метро\u001b[39;00m\n\u001b[1;32m      <a href='vscode-notebook-cell:/home/soloyolo/Desktop/Estate/RealEstate/preprocessing.ipynb#Y126sZmlsZQ%3D%3D?line=1'>2</a>\u001b[0m df_encode[\u001b[39m'\u001b[39m\u001b[39mMetro\u001b[39m\u001b[39m'\u001b[39m]\u001b[39m.\u001b[39mfillna(\u001b[39m'\u001b[39m\u001b[39mОтсутствует\u001b[39m\u001b[39m'\u001b[39m)\n\u001b[0;32m----> <a href='vscode-notebook-cell:/home/soloyolo/Desktop/Estate/RealEstate/preprocessing.ipynb#Y126sZmlsZQ%3D%3D?line=3'>4</a>\u001b[0m df_encode[\u001b[39m'\u001b[39m\u001b[39mMetro\u001b[39m\u001b[39m'\u001b[39m] \u001b[39m=\u001b[39m df_encode[\u001b[39m'\u001b[39m\u001b[39mMetro\u001b[39m\u001b[39m'\u001b[39m]\u001b[39m.\u001b[39mapply(\u001b[39mlambda\u001b[39;00m x: x \u001b[39mif\u001b[39;00m x \u001b[39m==\u001b[39m \u001b[39m'\u001b[39m\u001b[39mОтсутствует\u001b[39m\u001b[39m'\u001b[39m \u001b[39melse\u001b[39;00m x\u001b[39m.\u001b[39;49msplit()[\u001b[39m1\u001b[39m])\n",
      "\u001b[0;31mAttributeError\u001b[0m: 'float' object has no attribute 'split'"
     ]
    }
   ],
   "source": [
    "#Кодируем метро\n",
    "df_encode['Metro'].fillna('Отсутствует')\n",
    "\n",
    "df_encode['Metro'] = df_encode['Metro'].apply(lambda x: x if x == 'Отсутствует' else x.split()[1])"
   ]
  },
  {
   "cell_type": "code",
   "execution_count": null,
   "metadata": {},
   "outputs": [],
   "source": [
    "#Обновляем датасет\n",
    "df.to_csv('data.csv', sep=',')\n",
    "df_encode.info()"
   ]
  }
 ],
 "metadata": {
  "kernelspec": {
   "display_name": "Python 3 (ipykernel)",
   "language": "python",
   "name": "python3"
  },
  "language_info": {
   "codemirror_mode": {
    "name": "ipython",
    "version": 3
   },
   "file_extension": ".py",
   "mimetype": "text/x-python",
   "name": "python",
   "nbconvert_exporter": "python",
   "pygments_lexer": "ipython3",
   "version": "3.11.4"
  }
 },
 "nbformat": 4,
 "nbformat_minor": 4
}
