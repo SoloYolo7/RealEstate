{
 "cells": [
  {
   "cell_type": "code",
   "execution_count": 1225,
   "metadata": {},
   "outputs": [],
   "source": [
    "#Импортируем нужные библиотеки\n",
    "import pandas as pd \n",
    "import numpy as np\n",
    "import matplotlib.pyplot as plt"
   ]
  },
  {
   "cell_type": "code",
   "execution_count": 1226,
   "metadata": {},
   "outputs": [
    {
     "name": "stdout",
     "output_type": "stream",
     "text": [
      "['Unnamed: 0', 'ID  объявления', 'Количество комнат', 'Тип', 'Метро', 'Адрес', 'Площадь, м2', 'Дом', 'Парковка', 'Цена', 'Телефоны', 'Описание', 'Ремонт', 'Площадь комнат, м2', 'Балкон', 'Окна', 'Санузел', 'Можно с детьми/животными', 'Дополнительно', 'Название ЖК', 'Серия дома', 'Высота потолков, м', 'Лифт', 'Мусоропровод', 'Ссылка на объявление']\n",
      "19737\n"
     ]
    },
    {
     "data": {
      "text/html": [
       "<div>\n",
       "<style scoped>\n",
       "    .dataframe tbody tr th:only-of-type {\n",
       "        vertical-align: middle;\n",
       "    }\n",
       "\n",
       "    .dataframe tbody tr th {\n",
       "        vertical-align: top;\n",
       "    }\n",
       "\n",
       "    .dataframe thead th {\n",
       "        text-align: right;\n",
       "    }\n",
       "</style>\n",
       "<table border=\"1\" class=\"dataframe\">\n",
       "  <thead>\n",
       "    <tr style=\"text-align: right;\">\n",
       "      <th></th>\n",
       "      <th>ID  объявления</th>\n",
       "      <th>Количество комнат</th>\n",
       "      <th>Метро</th>\n",
       "      <th>Площадь, м2</th>\n",
       "      <th>Дом</th>\n",
       "      <th>Парковка</th>\n",
       "      <th>Цена</th>\n",
       "      <th>Ремонт</th>\n",
       "      <th>Площадь комнат, м2</th>\n",
       "      <th>Балкон</th>\n",
       "      <th>Окна</th>\n",
       "      <th>Санузел</th>\n",
       "      <th>Можно с детьми/животными</th>\n",
       "      <th>Высота потолков, м</th>\n",
       "      <th>Лифт</th>\n",
       "      <th>Мусоропровод</th>\n",
       "    </tr>\n",
       "  </thead>\n",
       "  <tbody>\n",
       "    <tr>\n",
       "      <th>0</th>\n",
       "      <td>271271157</td>\n",
       "      <td>4</td>\n",
       "      <td>м. Смоленская (9 мин пешком)</td>\n",
       "      <td>200.0/20.0</td>\n",
       "      <td>5/16, Монолитный</td>\n",
       "      <td>подземная</td>\n",
       "      <td>500000.0 руб./ За месяц, Залог - 500000 руб., ...</td>\n",
       "      <td>Дизайнерский</td>\n",
       "      <td>NaN</td>\n",
       "      <td>NaN</td>\n",
       "      <td>NaN</td>\n",
       "      <td>NaN</td>\n",
       "      <td>Можно с детьми, Можно с животными</td>\n",
       "      <td>3.0</td>\n",
       "      <td>Пасс (4), Груз (1)</td>\n",
       "      <td>Да</td>\n",
       "    </tr>\n",
       "    <tr>\n",
       "      <th>1</th>\n",
       "      <td>271634126</td>\n",
       "      <td>4</td>\n",
       "      <td>м. Смоленская (8 мин пешком)</td>\n",
       "      <td>198.0/95.0/18.0</td>\n",
       "      <td>5/16, Монолитно-кирпичный</td>\n",
       "      <td>подземная</td>\n",
       "      <td>500000.0 руб./ За месяц, Залог - 500000 руб., ...</td>\n",
       "      <td>Дизайнерский</td>\n",
       "      <td>25 25 20 25</td>\n",
       "      <td>NaN</td>\n",
       "      <td>На улицу и двор</td>\n",
       "      <td>Совмещенный (2), Раздельный (1)</td>\n",
       "      <td>Можно с детьми</td>\n",
       "      <td>3.5</td>\n",
       "      <td>Пасс (1), Груз (1)</td>\n",
       "      <td>Нет</td>\n",
       "    </tr>\n",
       "    <tr>\n",
       "      <th>2</th>\n",
       "      <td>271173086</td>\n",
       "      <td>4, Оба варианта</td>\n",
       "      <td>м. Смоленская (7 мин пешком)</td>\n",
       "      <td>200.0/116.0/4.0</td>\n",
       "      <td>5/16</td>\n",
       "      <td>подземная</td>\n",
       "      <td>500000.0 руб./ За месяц, Залог - 500000 руб., ...</td>\n",
       "      <td>Евроремонт</td>\n",
       "      <td>NaN</td>\n",
       "      <td>NaN</td>\n",
       "      <td>На улицу и двор</td>\n",
       "      <td>Совмещенный (3)</td>\n",
       "      <td>Можно с детьми</td>\n",
       "      <td>3.2</td>\n",
       "      <td>Пасс (1)</td>\n",
       "      <td>NaN</td>\n",
       "    </tr>\n",
       "    <tr>\n",
       "      <th>3</th>\n",
       "      <td>272197456</td>\n",
       "      <td>4, Оба варианта</td>\n",
       "      <td>м. Смоленская (3 мин пешком)</td>\n",
       "      <td>170.0/95.0/17.0</td>\n",
       "      <td>5/6</td>\n",
       "      <td>подземная</td>\n",
       "      <td>400000.0 руб./ За месяц, Залог - 400000 руб., ...</td>\n",
       "      <td>Евроремонт</td>\n",
       "      <td>14-42-20-19</td>\n",
       "      <td>NaN</td>\n",
       "      <td>На улицу и двор</td>\n",
       "      <td>Совмещенный (3)</td>\n",
       "      <td>Можно с животными</td>\n",
       "      <td>3.2</td>\n",
       "      <td>Пасс (1)</td>\n",
       "      <td>NaN</td>\n",
       "    </tr>\n",
       "    <tr>\n",
       "      <th>4</th>\n",
       "      <td>273614615</td>\n",
       "      <td>2</td>\n",
       "      <td>м. Арбатская (7 мин пешком)</td>\n",
       "      <td>58.0/38.0/5.0</td>\n",
       "      <td>12/26, Панельный</td>\n",
       "      <td>NaN</td>\n",
       "      <td>225000.0 руб./ За месяц, Залог - 225000 руб., ...</td>\n",
       "      <td>Евроремонт</td>\n",
       "      <td>20 18</td>\n",
       "      <td>NaN</td>\n",
       "      <td>На улицу и двор</td>\n",
       "      <td>Совмещенный (2)</td>\n",
       "      <td>NaN</td>\n",
       "      <td>3.9</td>\n",
       "      <td>Пасс (1), Груз (1)</td>\n",
       "      <td>Да</td>\n",
       "    </tr>\n",
       "    <tr>\n",
       "      <th>5</th>\n",
       "      <td>274837728</td>\n",
       "      <td>3</td>\n",
       "      <td>м. Смоленская (5 мин пешком)</td>\n",
       "      <td>92.0</td>\n",
       "      <td>3/7</td>\n",
       "      <td>NaN</td>\n",
       "      <td>470000.0 руб./ За месяц, Залог - 470000 руб., ...</td>\n",
       "      <td>Дизайнерский</td>\n",
       "      <td>NaN</td>\n",
       "      <td>NaN</td>\n",
       "      <td>NaN</td>\n",
       "      <td>NaN</td>\n",
       "      <td>NaN</td>\n",
       "      <td>NaN</td>\n",
       "      <td>NaN</td>\n",
       "      <td>NaN</td>\n",
       "    </tr>\n",
       "    <tr>\n",
       "      <th>6</th>\n",
       "      <td>273643908</td>\n",
       "      <td>5, Оба варианта</td>\n",
       "      <td>м. Арбатская (4 мин пешком)</td>\n",
       "      <td>213.0/140.0/20.0</td>\n",
       "      <td>4/5</td>\n",
       "      <td>наземная</td>\n",
       "      <td>350000.0 руб./ За месяц, Залог - 350000 руб., ...</td>\n",
       "      <td>Евроремонт</td>\n",
       "      <td>43-25-25-25-22</td>\n",
       "      <td>NaN</td>\n",
       "      <td>На улицу и двор</td>\n",
       "      <td>Совмещенный (2)</td>\n",
       "      <td>Можно с детьми, Можно с животными</td>\n",
       "      <td>3.2</td>\n",
       "      <td>Пасс (1)</td>\n",
       "      <td>NaN</td>\n",
       "    </tr>\n",
       "    <tr>\n",
       "      <th>7</th>\n",
       "      <td>274475342</td>\n",
       "      <td>3</td>\n",
       "      <td>м. Смоленская (3 мин пешком)</td>\n",
       "      <td>98.0/63.0/9.0</td>\n",
       "      <td>2/4, Монолитный</td>\n",
       "      <td>подземная</td>\n",
       "      <td>250000.0 руб./ За месяц, Залог - 250000 руб., ...</td>\n",
       "      <td>Евроремонт</td>\n",
       "      <td>26 22 15</td>\n",
       "      <td>NaN</td>\n",
       "      <td>Во двор</td>\n",
       "      <td>Совмещенный (1), Раздельный (1)</td>\n",
       "      <td>Можно с детьми, Можно с животными</td>\n",
       "      <td>3.2</td>\n",
       "      <td>Пасс (1)</td>\n",
       "      <td>Нет</td>\n",
       "    </tr>\n",
       "    <tr>\n",
       "      <th>8</th>\n",
       "      <td>273973191</td>\n",
       "      <td>3</td>\n",
       "      <td>м. Смоленская (9 мин пешком)</td>\n",
       "      <td>120.0/95.0/10.0</td>\n",
       "      <td>5/10, Сталинский</td>\n",
       "      <td>открытая</td>\n",
       "      <td>130000.0 руб./ За месяц, Залог - 130000 руб., ...</td>\n",
       "      <td>Евроремонт</td>\n",
       "      <td>45 25 25</td>\n",
       "      <td>NaN</td>\n",
       "      <td>На улицу</td>\n",
       "      <td>Совмещенный (1)</td>\n",
       "      <td>Можно с животными</td>\n",
       "      <td>3.0</td>\n",
       "      <td>Пасс (1)</td>\n",
       "      <td>Нет</td>\n",
       "    </tr>\n",
       "    <tr>\n",
       "      <th>9</th>\n",
       "      <td>272900409</td>\n",
       "      <td>4</td>\n",
       "      <td>м. Арбатская (10 мин пешком)</td>\n",
       "      <td>90.0/66.0/10.0</td>\n",
       "      <td>2/7, Сталинский</td>\n",
       "      <td>открытая</td>\n",
       "      <td>210000.0 руб./ За месяц, Залог - 210000 руб., ...</td>\n",
       "      <td>Евроремонт</td>\n",
       "      <td>16 14 16 20</td>\n",
       "      <td>Балкон (1)</td>\n",
       "      <td>На улицу и двор</td>\n",
       "      <td>Совмещенный (1), Раздельный (1)</td>\n",
       "      <td>Можно с детьми</td>\n",
       "      <td>310.0</td>\n",
       "      <td>Пасс (1)</td>\n",
       "      <td>Да</td>\n",
       "    </tr>\n",
       "  </tbody>\n",
       "</table>\n",
       "</div>"
      ],
      "text/plain": [
       "   ID  объявления Количество комнат                         Метро  \\\n",
       "0       271271157                 4  м. Смоленская (9 мин пешком)   \n",
       "1       271634126                 4  м. Смоленская (8 мин пешком)   \n",
       "2       271173086   4, Оба варианта  м. Смоленская (7 мин пешком)   \n",
       "3       272197456   4, Оба варианта  м. Смоленская (3 мин пешком)   \n",
       "4       273614615                 2   м. Арбатская (7 мин пешком)   \n",
       "5       274837728                 3  м. Смоленская (5 мин пешком)   \n",
       "6       273643908   5, Оба варианта   м. Арбатская (4 мин пешком)   \n",
       "7       274475342                 3  м. Смоленская (3 мин пешком)   \n",
       "8       273973191                 3  м. Смоленская (9 мин пешком)   \n",
       "9       272900409                 4  м. Арбатская (10 мин пешком)   \n",
       "\n",
       "        Площадь, м2                        Дом   Парковка  \\\n",
       "0        200.0/20.0           5/16, Монолитный  подземная   \n",
       "1   198.0/95.0/18.0  5/16, Монолитно-кирпичный  подземная   \n",
       "2   200.0/116.0/4.0                       5/16  подземная   \n",
       "3   170.0/95.0/17.0                        5/6  подземная   \n",
       "4     58.0/38.0/5.0           12/26, Панельный        NaN   \n",
       "5              92.0                        3/7        NaN   \n",
       "6  213.0/140.0/20.0                        4/5   наземная   \n",
       "7     98.0/63.0/9.0            2/4, Монолитный  подземная   \n",
       "8   120.0/95.0/10.0           5/10, Сталинский   открытая   \n",
       "9    90.0/66.0/10.0            2/7, Сталинский   открытая   \n",
       "\n",
       "                                                Цена        Ремонт  \\\n",
       "0  500000.0 руб./ За месяц, Залог - 500000 руб., ...  Дизайнерский   \n",
       "1  500000.0 руб./ За месяц, Залог - 500000 руб., ...  Дизайнерский   \n",
       "2  500000.0 руб./ За месяц, Залог - 500000 руб., ...    Евроремонт   \n",
       "3  400000.0 руб./ За месяц, Залог - 400000 руб., ...    Евроремонт   \n",
       "4  225000.0 руб./ За месяц, Залог - 225000 руб., ...    Евроремонт   \n",
       "5  470000.0 руб./ За месяц, Залог - 470000 руб., ...  Дизайнерский   \n",
       "6  350000.0 руб./ За месяц, Залог - 350000 руб., ...    Евроремонт   \n",
       "7  250000.0 руб./ За месяц, Залог - 250000 руб., ...    Евроремонт   \n",
       "8  130000.0 руб./ За месяц, Залог - 130000 руб., ...    Евроремонт   \n",
       "9  210000.0 руб./ За месяц, Залог - 210000 руб., ...    Евроремонт   \n",
       "\n",
       "  Площадь комнат, м2      Балкон             Окна  \\\n",
       "0                NaN         NaN              NaN   \n",
       "1        25 25 20 25         NaN  На улицу и двор   \n",
       "2                NaN         NaN  На улицу и двор   \n",
       "3        14-42-20-19         NaN  На улицу и двор   \n",
       "4              20 18         NaN  На улицу и двор   \n",
       "5                NaN         NaN              NaN   \n",
       "6     43-25-25-25-22         NaN  На улицу и двор   \n",
       "7           26 22 15         NaN          Во двор   \n",
       "8           45 25 25         NaN         На улицу   \n",
       "9        16 14 16 20  Балкон (1)  На улицу и двор   \n",
       "\n",
       "                           Санузел           Можно с детьми/животными  \\\n",
       "0                              NaN  Можно с детьми, Можно с животными   \n",
       "1  Совмещенный (2), Раздельный (1)                     Можно с детьми   \n",
       "2                  Совмещенный (3)                     Можно с детьми   \n",
       "3                  Совмещенный (3)                  Можно с животными   \n",
       "4                  Совмещенный (2)                                NaN   \n",
       "5                              NaN                                NaN   \n",
       "6                  Совмещенный (2)  Можно с детьми, Можно с животными   \n",
       "7  Совмещенный (1), Раздельный (1)  Можно с детьми, Можно с животными   \n",
       "8                  Совмещенный (1)                  Можно с животными   \n",
       "9  Совмещенный (1), Раздельный (1)                     Можно с детьми   \n",
       "\n",
       "   Высота потолков, м                Лифт Мусоропровод  \n",
       "0                 3.0  Пасс (4), Груз (1)           Да  \n",
       "1                 3.5  Пасс (1), Груз (1)          Нет  \n",
       "2                 3.2            Пасс (1)          NaN  \n",
       "3                 3.2            Пасс (1)          NaN  \n",
       "4                 3.9  Пасс (1), Груз (1)           Да  \n",
       "5                 NaN                 NaN          NaN  \n",
       "6                 3.2            Пасс (1)          NaN  \n",
       "7                 3.2            Пасс (1)          Нет  \n",
       "8                 3.0            Пасс (1)          Нет  \n",
       "9               310.0            Пасс (1)           Да  "
      ]
     },
     "execution_count": 1226,
     "metadata": {},
     "output_type": "execute_result"
    }
   ],
   "source": [
    "#Оставляем только объявления в Москве и убираем, на наш взгляд, не нужные колонки.\n",
    "df = pd.read_csv('./_data.csv', sep=',')\n",
    "includes = []\n",
    "for i in range(len(df)):\n",
    "    if 'Москва' not in df['Адрес'][i]:\n",
    "        includes.append(i)\n",
    "print(df.columns.to_list())\n",
    "df_clean=df.drop(includes)\n",
    "print(len(df_clean))\n",
    "df = df_clean.copy().drop(['Тип', 'Unnamed: 0', 'Телефоны', 'Серия дома', 'Название ЖК', 'Ссылка на объявление','Описание','Адрес','Дополнительно'], axis=1)\n",
    "df['Ремонт'].fillna('неизвестно')\n",
    "\n",
    "df.to_csv('data.csv', sep='\\t')\n",
    "df.head(10) "
   ]
  },
  {
   "cell_type": "code",
   "execution_count": 1227,
   "metadata": {},
   "outputs": [],
   "source": [
    "#Убираем дубликаты\n",
    "df = df.drop_duplicates()\n",
    "\n",
    "\n"
   ]
  },
  {
   "cell_type": "code",
   "execution_count": 1228,
   "metadata": {},
   "outputs": [],
   "source": [
    "#Убираем NaN в кол-ве комнат и приводим кол-во комнат в числовое или около того значение.\n",
    "df['Количество комнат'] = df['Количество комнат'].str[0]\n",
    "df['Количество комнат'].fillna(int(df['Количество комнат'].mode()), inplace=True)"
   ]
  },
  {
   "cell_type": "code",
   "execution_count": 1229,
   "metadata": {},
   "outputs": [],
   "source": [
    "# Считаем, что отдельные площади кухни и комнат нам не важны, и оставляет только общую площадь, а потом удаляем колонки со старой площадью.\n",
    "df['Площадь кв, м2'] = [row.split('/')[0] for row in df['Площадь, м2']]\n",
    "df = df.drop(['Площадь, м2'], axis = 1)\n",
    "df = df.drop(['Площадь комнат, м2'], axis = 1)"
   ]
  },
  {
   "cell_type": "code",
   "execution_count": 1230,
   "metadata": {},
   "outputs": [],
   "source": [
    "# Убираем NaN в колонке 'Окна', ставим 'Во двор', так как это самый распространённый вариант.\n",
    "df['Окна'] = df['Окна'].fillna('Во двор')"
   ]
  },
  {
   "cell_type": "code",
   "execution_count": 1231,
   "metadata": {},
   "outputs": [],
   "source": [
    "# Убираем NaN в колонке 'Ремонт', ставим 'Косметический', так как это самый распространённый вариант.\n",
    "df['Ремонт'] = df['Ремонт'].fillna('Косметический')"
   ]
  },
  {
   "cell_type": "code",
   "execution_count": 1232,
   "metadata": {},
   "outputs": [],
   "source": [
    "# Вытаскиваем информацию из колонки 'дом'\n",
    "df['Тип дома'] = [row.split(', ')[-1] if len(row.split(', ')[-1]) > 6 else 'Неизвестно' for row in df['Дом']]\n",
    "df['Этажность дома'] = [int(row.split('/')[1].split(',')[0]) for row in df['Дом']]\n",
    "df['Этаж квартиры'] = [int(row.split('/')[0]) for row in df['Дом']]\n",
    "df = df.drop(['Дом'], axis = 1)"
   ]
  },
  {
   "cell_type": "code",
   "execution_count": 1233,
   "metadata": {},
   "outputs": [],
   "source": [
    "# Избавляемся от NaN для лифтов, если меньше 5 этажей - нет лифта, в остальном по одному каждого лифта.\n",
    "df['Лифт'] = [row if row == row else\n",
    "              ['Пасс (1), Груз (1)' if df['Этажность дома'].iloc[i]>5 else 'Пасс (0), Груз (0)'][0]\n",
    "              for i, row in enumerate(df['Лифт'])]\n"
   ]
  },
  {
   "cell_type": "code",
   "execution_count": 1234,
   "metadata": {},
   "outputs": [],
   "source": [
    "# Убираем NaN в колонке 'Мусоропровод', ставим 'Нет', так как предполагаем, что это малозначимый фактор.\n",
    "df['Мусоропровод'] = df['Мусоропровод'].fillna('Нет')"
   ]
  },
  {
   "cell_type": "code",
   "execution_count": 1235,
   "metadata": {},
   "outputs": [],
   "source": [
    "# Убираем NaN в колонке 'Высота потолков, м', выбираем среднее, так как в случае с высотой потолков это кажется самым логичным вариантом.\n",
    "df['Высота потолков, м'] = df['Высота потолков, м'].fillna(round(df['Высота потолков, м'].mean(), 2))\n"
   ]
  },
  {
   "cell_type": "code",
   "execution_count": 1236,
   "metadata": {},
   "outputs": [],
   "source": [
    "# Убираем NaN в колонке 'Санузел', разбиваем на возможные варианты, руководствуясь логикой.\n",
    "df['Санузел'] = df['Санузел'].fillna('Совмещенный (1)')\n",
    "df['Санузел совмещенный'] = [row.split(' ')[1] if (row.split(' ')[0]) == 'Совмещенный' else '(0)' for row in df['Санузел']]\n",
    "df['Санузел раздельный'] = [row.split(' ')[-1] if (row.split(' ')[-2]) == 'Раздельный' else '(0)' for row in df['Санузел']]\n",
    "df['Санузел совмещенный'] = [row.split('(')[1] for row in df['Санузел совмещенный']]\n",
    "df['Санузел совмещенный'] = [int(row.split(')')[0]) for row in df['Санузел совмещенный']]\n",
    "df['Санузел раздельный'] = [row.split('(')[1] for row in df['Санузел раздельный']]\n",
    "df['Санузел раздельный'] = [int(row.split(')')[0]) for row in df['Санузел раздельный']]\n",
    "df = df.drop(['Санузел'], axis = 1)"
   ]
  },
  {
   "cell_type": "code",
   "execution_count": 1237,
   "metadata": {},
   "outputs": [],
   "source": [
    "# Убираем NaN в колонке 'Балкон', разбиваем на возможные варианты, руководствуясь логикой.\n",
    "df['Балкон'] = df['Балкон'].fillna('Балкон (0), Лоджия (0)')\n",
    "df['Лоджия'] = [row.split(' ')[-1] if (row.split(' ')[-2]) == 'Лоджия' else '(0)' for row in df['Балкон']]\n",
    "df['Балкон'] = [row.split(' ')[1] if row.split(' ')[0] == 'Балкон' else '(0)' for row in df['Балкон']]\n",
    "df['Лоджия'] = [row.split('(')[1] for row in df['Лоджия']]\n",
    "df['Лоджия'] = [int(row.split(')')[0]) for row in df['Лоджия']]\n",
    "df['Балкон'] = [row.split('(')[1] for row in df['Балкон']]\n",
    "df['Балкон'] = [int(row.split(')')[0]) for row in df['Балкон']]"
   ]
  },
  {
   "cell_type": "code",
   "execution_count": 1238,
   "metadata": {},
   "outputs": [],
   "source": [
    "# Убираем NaN в колонке 'Парковка', ставим 'Наземная', так как это самый распространённый вариант и он бесплатный.\n",
    "df['Парковка'] = df['Парковка'].fillna('наземная')\n",
    "df['Парковка'] = df['Парковка'].apply(lambda x: x.capitalize())"
   ]
  },
  {
   "cell_type": "code",
   "execution_count": 1239,
   "metadata": {},
   "outputs": [],
   "source": [
    "# Убираем NaN в колонке 'Можно с детьми/животными', в данном случае мы считаем фактор важным, поэтому никак его автоматически не заполняем.\n",
    "df['Можно с детьми/животными']=df['Можно с детьми/животными'].fillna('по договорённости')"
   ]
  },
  {
   "cell_type": "code",
   "execution_count": 1240,
   "metadata": {},
   "outputs": [
    {
     "name": "stderr",
     "output_type": "stream",
     "text": [
      "/tmp/ipykernel_37024/2430123984.py:2: FutureWarning: The default value of regex will change from True to False in a future version. In addition, single character regular expressions will *not* be treated as literal strings when regex=True.\n",
      "  df['время до метро'] = df['Метро'].str.replace(')', '').str.split('(').str[-1]\n"
     ]
    }
   ],
   "source": [
    "#Переводим расстояние до метро в метры в зависимости от указанного способо передвижения, для NaN задаём медиану.\n",
    "df['время до метро'] = df['Метро'].str.replace(')', '').str.split('(').str[-1]\n",
    "df[['время в минутах', 'способ']] = df['время до метро'].str.extract(r'(\\d+) мин\\s(пешком|на машине)')\n",
    "df['способ'] = df['способ'].apply(lambda x: 70 if x == 'пешком' else 750)\n",
    "df['способ'] = df['способ'].fillna(0)\n",
    "df['время в минутах'] = df['время в минутах'].fillna(0)\n",
    "df['distance to subway, m'] = df['способ'] * df['время в минутах'].astype(int)\n",
    "median_value = df['distance to subway, m'].median()\n",
    "df['distance to subway, m'] = df['distance to subway, m'].replace(0, median_value)\n"
   ]
  },
  {
   "cell_type": "code",
   "execution_count": 1241,
   "metadata": {},
   "outputs": [],
   "source": [
    "#Переименовываем столбцы на английский для соответствия требованиям.\n",
    "df.rename(columns={'ID  объявления': 'Ad_ID'}, inplace=True)\n",
    "df.rename(columns={'Количество комнат': 'Number_of_Rooms'}, inplace=True)\n",
    "df.rename(columns={'Метро': 'Metro'}, inplace=True)\n",
    "df.rename(columns={'Парковка': 'Parking'}, inplace=True)\n",
    "df.rename(columns={'Цена': 'Price'}, inplace=True)\n",
    "df.rename(columns={'Ремонт': 'Renovation'}, inplace=True)\n",
    "df.rename(columns={'Балкон': 'Balcony'}, inplace=True)\n",
    "df.rename(columns={'Окна': 'Windows'}, inplace=True)\n",
    "df.rename(columns={'Можно с детьми/животными': 'Children/Pets_Allowed'}, inplace=True)\n",
    "df.rename(columns={'Лифт': 'Elevator'}, inplace=True)\n",
    "df.rename(columns={'Мусоропровод': 'Garbage_Chute'}, inplace=True)\n",
    "df.rename(columns={'Площадь кв, м2': 'Area_sq_m'}, inplace=True)\n",
    "df.rename(columns={'Тип дома': 'House_Type'}, inplace=True)\n",
    "df.rename(columns={'Этажность дома': 'Number_of_Floors'}, inplace=True)\n",
    "df.rename(columns={'Этаж квартиры': 'Floor_of_Apartment'}, inplace=True)\n",
    "df.rename(columns={'Санузел совмещенный': 'Combined_Bathroom'}, inplace=True)\n",
    "df.rename(columns={'Санузел раздельный': 'Separate_Bathroom'}, inplace=True)\n",
    "df.rename(columns={'Лоджия': 'Balconette'}, inplace=True)\n",
    "df.rename(columns={'Высота потолков, м': 'Ceiling_Height_M'}, inplace=True)\n"
   ]
  },
  {
   "cell_type": "code",
   "execution_count": 1242,
   "metadata": {},
   "outputs": [],
   "source": [
    "#Убираем лишние столбцы.\n",
    "df.drop(['время до метро'], axis=1, inplace = True)\n",
    "df.drop(['время в минутах'], axis=1, inplace = True)\n",
    "df.drop(['способ'], axis=1, inplace = True)\n",
    "df.drop(['Metro'], axis=1, inplace = True)"
   ]
  },
  {
   "cell_type": "code",
   "execution_count": 1243,
   "metadata": {},
   "outputs": [
    {
     "name": "stdout",
     "output_type": "stream",
     "text": [
      "False\n"
     ]
    }
   ],
   "source": [
    "#Проверка на NaN\n",
    "nans = df.isna().any().any()\n",
    "print(nans)\n"
   ]
  },
  {
   "cell_type": "code",
   "execution_count": 1244,
   "metadata": {},
   "outputs": [],
   "source": [
    "#Разбивка лифтов на пассажирские и грузовые\n",
    "df.insert(loc=df.columns.to_list().index('Elevator')+1, column='Count_freight_elevator', \\\n",
    "                  value=df['Elevator'].apply(lambda x: int(x[-2]) if 'Груз' in x else 0))\n",
    "df['Elevator'] = df['Elevator'].apply(lambda x: int(x[x.index('(')+1]) if 'Пасс' in x else 0)\n",
    "df = df.rename(columns={'Elevator': 'Count_pass_elevator'})"
   ]
  },
  {
   "cell_type": "code",
   "execution_count": 1245,
   "metadata": {},
   "outputs": [],
   "source": [
    "#Создаём копию основного датасета, для того что бы его не изменять.\n",
    "df_encode = df.copy()"
   ]
  },
  {
   "cell_type": "code",
   "execution_count": 1246,
   "metadata": {},
   "outputs": [],
   "source": [
    "# Кодирование Parking\n",
    "from sklearn.preprocessing import LabelEncoder\n",
    "le = LabelEncoder()\n",
    "le.fit(df['Parking'])\n",
    "df_encode['Parking'] = le.transform(df_encode['Parking'])\n",
    "\n"
   ]
  },
  {
   "cell_type": "code",
   "execution_count": 1247,
   "metadata": {},
   "outputs": [],
   "source": [
    "# Кодирование Renovation\n",
    "le = LabelEncoder()\n",
    "le.fit(df['Renovation'])\n",
    "df_encode['Renovation'] = le.transform(df_encode['Renovation'])"
   ]
  },
  {
   "cell_type": "code",
   "execution_count": 1248,
   "metadata": {},
   "outputs": [],
   "source": [
    "# Кодирование Garbage_Chute\n",
    "le = LabelEncoder()\n",
    "le.fit(df['Garbage_Chute'])\n",
    "df_encode['Garbage_Chute'] = le.transform(df_encode['Garbage_Chute'])"
   ]
  },
  {
   "cell_type": "code",
   "execution_count": 1249,
   "metadata": {},
   "outputs": [],
   "source": [
    "# кодирование House_Type\n",
    "le = LabelEncoder()\n",
    "le.fit(df['House_Type'])\n",
    "df_encode['House_Type'] = le.transform(df_encode['House_Type'])"
   ]
  },
  {
   "cell_type": "code",
   "execution_count": 1250,
   "metadata": {},
   "outputs": [],
   "source": [
    "# кодирование Windows\n",
    "le = LabelEncoder()\n",
    "le.fit(df['Windows'])\n",
    "df_encode['Windows'] = le.transform(df_encode['Windows'])"
   ]
  },
  {
   "cell_type": "code",
   "execution_count": 1251,
   "metadata": {},
   "outputs": [],
   "source": [
    "#Переводим столбец Number_of_Rooms и Area_sq_m из str в int\n",
    "df_encode['Number_of_Rooms'] = df_encode['Number_of_Rooms'].astype(int)\n",
    "df_encode['Area_sq_m'] = df_encode['Area_sq_m'].astype(float)"
   ]
  },
  {
   "cell_type": "code",
   "execution_count": 1252,
   "metadata": {},
   "outputs": [],
   "source": [
    "# Разбиение одной колонки на две\n",
    "df_encode['Childrens_allowed'] = df_encode['Children/Pets_Allowed'].str.contains('Можно с детьми', case=False)\n",
    "df_encode['Pets_allowed'] = df_encode['Children/Pets_Allowed'].str.contains('Можно с животными', case=False)"
   ]
  },
  {
   "cell_type": "code",
   "execution_count": 1253,
   "metadata": {},
   "outputs": [],
   "source": [
    "# выбрасываем то, что разбивали\n",
    "df_encode.drop('Children/Pets_Allowed', axis=1, inplace=True)"
   ]
  },
  {
   "cell_type": "code",
   "execution_count": 1254,
   "metadata": {},
   "outputs": [],
   "source": [
    "#str to int\n",
    "df_encode['Childrens_allowed'] = df_encode['Childrens_allowed'].astype(int)\n",
    "df_encode['Pets_allowed'] = df_encode['Pets_allowed'].astype(int)"
   ]
  },
  {
   "cell_type": "code",
   "execution_count": 1255,
   "metadata": {},
   "outputs": [],
   "source": [
    "# Добавим новый столбец Deposit\n",
    "df.insert(loc=df.columns.to_list().index('Price')+1, column=\"Deposit\",\n",
    "         value=df['Price'])\n",
    "\n",
    "# Переведём столбец Price из $ и € в рубли (где необходимо)\n",
    "def converter(x):\n",
    "    x = x.split(' ')\n",
    "    \n",
    "    if x[1] == '$':\n",
    "        return int(float((x[0]))) * 95\n",
    "        \n",
    "    elif x == '€':\n",
    "        return int(float((x[0]))) * 100\n",
    "        \n",
    "    else:\n",
    "        return int(float((x[0])))\n",
    "\n",
    "df['Price'] = df['Price'].apply(converter)"
   ]
  },
  {
   "cell_type": "code",
   "execution_count": 1256,
   "metadata": {},
   "outputs": [],
   "source": [
    "# Отредактируем cтолбец Deposit\n",
    "\n",
    "from string import punctuation\n",
    "\n",
    "# Удалим ненужную пунктуацию, буквы и отступы на число\n",
    "def del_punc(x):\n",
    "    for let in x[:]:\n",
    "        if let in punctuation:\n",
    "            x = x.replace(let, '')\n",
    "            \n",
    "    return x\n",
    "\n",
    "def cleaner_deposit(x):\n",
    "    if 'Залог' in x:\n",
    "        x = x.split('Залог')\n",
    "        if '$' in x[1]:\n",
    "            x = del_punc(x[1]).split()\n",
    "            return int(x[0]) * 95\n",
    "        \n",
    "        elif '€' in x[1]:\n",
    "            x = del_punc(x[1]).split()\n",
    "            return int(x[0]) * 100\n",
    "\n",
    "        else:\n",
    "            x = del_punc(x[1]).split()\n",
    "            return int(x[0])\n",
    "    else:\n",
    "        return 0\n",
    "\n",
    "\n",
    "df['Deposit'] = df['Deposit'].apply(cleaner_deposit)"
   ]
  },
  {
   "cell_type": "code",
   "execution_count": 1257,
   "metadata": {},
   "outputs": [
    {
     "data": {
      "text/plain": [
       "19736"
      ]
     },
     "execution_count": 1257,
     "metadata": {},
     "output_type": "execute_result"
    }
   ],
   "source": [
    "# Удаление несуществующих зданий по высоте (самое высокое жилое здание Мск - 95 этажей)\n",
    "df_encode = df_encode[df_encode['Number_of_Floors'] <= 95]\n",
    "len(df_encode)"
   ]
  },
  {
   "cell_type": "code",
   "execution_count": 1258,
   "metadata": {},
   "outputs": [
    {
     "data": {
      "text/plain": [
       "19735"
      ]
     },
     "execution_count": 1258,
     "metadata": {},
     "output_type": "execute_result"
    }
   ],
   "source": [
    "# Удаление несуществующих квартир по площади (даже в общежитии 6м2 на человека. Ну зададимся 8 - самое минимальное, что видела Москва)\n",
    "df_encode = df_encode[df_encode['Area_sq_m'] >= 8]\n",
    "len(df_encode)"
   ]
  },
  {
   "cell_type": "code",
   "execution_count": 1259,
   "metadata": {},
   "outputs": [
    {
     "data": {
      "text/plain": [
       "19714"
      ]
     },
     "execution_count": 1259,
     "metadata": {},
     "output_type": "execute_result"
    }
   ],
   "source": [
    "# Удаление квартир для гномов\n",
    "df_encode = df_encode[df_encode['Ceiling_Height_M'] >= 2.2]\n",
    "len(df_encode)\n",
    "\n",
    "# Удаление квартир с 4-х метровыми колоннами \n",
    "df_encode = df_encode[df_encode['Ceiling_Height_M'] <= 8]\n",
    "len(df_encode)"
   ]
  },
  {
   "cell_type": "code",
   "execution_count": 1260,
   "metadata": {},
   "outputs": [],
   "source": [
    "df.to_csv('data.csv', sep=',')"
   ]
  }
 ],
 "metadata": {
  "kernelspec": {
   "display_name": "Python 3 (ipykernel)",
   "language": "python",
   "name": "python3"
  },
  "language_info": {
   "codemirror_mode": {
    "name": "ipython",
    "version": 3
   },
   "file_extension": ".py",
   "mimetype": "text/x-python",
   "name": "python",
   "nbconvert_exporter": "python",
   "pygments_lexer": "ipython3",
   "version": "3.11.4"
  }
 },
 "nbformat": 4,
 "nbformat_minor": 4
}
